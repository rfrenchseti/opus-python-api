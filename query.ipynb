{
 "cells": [
  {
   "cell_type": "markdown",
   "metadata": {},
   "source": [
    "# **Queries**"
   ]
  },
  {
   "cell_type": "code",
   "execution_count": 31,
   "metadata": {
    "collapsed": true
   },
   "outputs": [],
   "source": [
    "from opusapi import OPUSAPIRaw, OPUSAPI, Query, MultQuery, StringQuery, RangeQuery, OR"
   ]
  },
  {
   "cell_type": "code",
   "execution_count": 32,
   "metadata": {},
   "outputs": [],
   "source": [
    "R=OPUSAPIRaw()"
   ]
  },
  {
   "cell_type": "code",
   "execution_count": 33,
   "metadata": {
    "collapsed": true
   },
   "outputs": [],
   "source": [
    "O=OPUSAPI()"
   ]
  },
  {
   "cell_type": "code",
   "execution_count": 2,
   "metadata": {
    "collapsed": true
   },
   "outputs": [],
   "source": [
    "mq1=MultQuery('target', 'Saturn Rings')"
   ]
  },
  {
   "cell_type": "code",
   "execution_count": 3,
   "metadata": {},
   "outputs": [
    {
     "data": {
      "text/plain": [
       "MultQuery('target','Saturn Rings')"
      ]
     },
     "execution_count": 3,
     "metadata": {},
     "output_type": "execute_result"
    }
   ],
   "source": [
    "mq1"
   ]
  },
  {
   "cell_type": "code",
   "execution_count": 4,
   "metadata": {},
   "outputs": [
    {
     "name": "stdout",
     "output_type": "stream",
     "text": [
      "MultQuery target=Saturn Rings\n"
     ]
    }
   ],
   "source": [
    "print(mq1)"
   ]
  },
  {
   "cell_type": "code",
   "execution_count": 5,
   "metadata": {
    "collapsed": true
   },
   "outputs": [],
   "source": [
    "mq2=MultQuery('planet',['Earth','Jupiter','Saturn'])"
   ]
  },
  {
   "cell_type": "code",
   "execution_count": 6,
   "metadata": {},
   "outputs": [
    {
     "data": {
      "text/plain": [
       "MultQuery('planet',['Earth', 'Jupiter', 'Saturn'])"
      ]
     },
     "execution_count": 6,
     "metadata": {},
     "output_type": "execute_result"
    }
   ],
   "source": [
    "mq2"
   ]
  },
  {
   "cell_type": "code",
   "execution_count": 7,
   "metadata": {},
   "outputs": [
    {
     "name": "stdout",
     "output_type": "stream",
     "text": [
      "MultQuery planet=Earth,Jupiter,Saturn\n"
     ]
    }
   ],
   "source": [
    "print(mq2)"
   ]
  },
  {
   "cell_type": "code",
   "execution_count": 8,
   "metadata": {
    "collapsed": true
   },
   "outputs": [],
   "source": [
    "sq1=StringQuery('volumeid', 'COISS_2001')"
   ]
  },
  {
   "cell_type": "code",
   "execution_count": 9,
   "metadata": {},
   "outputs": [
    {
     "data": {
      "text/plain": [
       "StringQuery('volumeid','COISS_2001','contains')"
      ]
     },
     "execution_count": 9,
     "metadata": {},
     "output_type": "execute_result"
    }
   ],
   "source": [
    "sq1"
   ]
  },
  {
   "cell_type": "code",
   "execution_count": 10,
   "metadata": {},
   "outputs": [
    {
     "name": "stdout",
     "output_type": "stream",
     "text": [
      "StringQuery volumeid=COISS_2001 (contains)\n"
     ]
    }
   ],
   "source": [
    "print(sq1)"
   ]
  },
  {
   "cell_type": "code",
   "execution_count": 11,
   "metadata": {
    "collapsed": true
   },
   "outputs": [],
   "source": [
    "sq2=StringQuery('volumeid', 'COISS_2002', 'matches')"
   ]
  },
  {
   "cell_type": "code",
   "execution_count": 12,
   "metadata": {},
   "outputs": [
    {
     "data": {
      "text/plain": [
       "StringQuery('volumeid','COISS_2002','matches')"
      ]
     },
     "execution_count": 12,
     "metadata": {},
     "output_type": "execute_result"
    }
   ],
   "source": [
    "sq2"
   ]
  },
  {
   "cell_type": "code",
   "execution_count": 13,
   "metadata": {},
   "outputs": [
    {
     "name": "stdout",
     "output_type": "stream",
     "text": [
      "StringQuery volumeid=COISS_2002 (matches)\n"
     ]
    }
   ],
   "source": [
    "print(sq2)"
   ]
  },
  {
   "cell_type": "code",
   "execution_count": 14,
   "metadata": {
    "collapsed": true
   },
   "outputs": [],
   "source": [
    "rq1=RangeQuery('rightasc', minimum=10)"
   ]
  },
  {
   "cell_type": "code",
   "execution_count": 15,
   "metadata": {},
   "outputs": [
    {
     "data": {
      "text/plain": [
       "RangeQuery('rightasc',minimum=10.0)"
      ]
     },
     "execution_count": 15,
     "metadata": {},
     "output_type": "execute_result"
    }
   ],
   "source": [
    "rq1"
   ]
  },
  {
   "cell_type": "code",
   "execution_count": 16,
   "metadata": {},
   "outputs": [
    {
     "name": "stdout",
     "output_type": "stream",
     "text": [
      "RangeQuery rightasc min=10.0\n"
     ]
    }
   ],
   "source": [
    "print(rq1)"
   ]
  },
  {
   "cell_type": "code",
   "execution_count": 17,
   "metadata": {
    "collapsed": true
   },
   "outputs": [],
   "source": [
    "rq2=RangeQuery('rightasc', maximum=30)"
   ]
  },
  {
   "cell_type": "code",
   "execution_count": 18,
   "metadata": {},
   "outputs": [
    {
     "data": {
      "text/plain": [
       "RangeQuery('rightasc',maximum=30.0)"
      ]
     },
     "execution_count": 18,
     "metadata": {},
     "output_type": "execute_result"
    }
   ],
   "source": [
    "rq2"
   ]
  },
  {
   "cell_type": "code",
   "execution_count": 19,
   "metadata": {},
   "outputs": [
    {
     "name": "stdout",
     "output_type": "stream",
     "text": [
      "RangeQuery rightasc max=30.0\n"
     ]
    }
   ],
   "source": [
    "print(rq2)"
   ]
  },
  {
   "cell_type": "code",
   "execution_count": 20,
   "metadata": {
    "collapsed": true
   },
   "outputs": [],
   "source": [
    "rq3=RangeQuery('rightasc', minimum=30, maximum=35, qtype='any')"
   ]
  },
  {
   "cell_type": "code",
   "execution_count": 21,
   "metadata": {},
   "outputs": [
    {
     "data": {
      "text/plain": [
       "RangeQuery('rightasc',minimum=30.0,maximum=35.0,qtype='any')"
      ]
     },
     "execution_count": 21,
     "metadata": {},
     "output_type": "execute_result"
    }
   ],
   "source": [
    "rq3"
   ]
  },
  {
   "cell_type": "code",
   "execution_count": 22,
   "metadata": {},
   "outputs": [
    {
     "name": "stdout",
     "output_type": "stream",
     "text": [
      "RangeQuery rightasc min=30.0 max=35.0 (qtype any)\n"
     ]
    }
   ],
   "source": [
    "print(rq3)"
   ]
  },
  {
   "cell_type": "code",
   "execution_count": 23,
   "metadata": {
    "collapsed": true
   },
   "outputs": [],
   "source": [
    "rq4=RangeQuery('rightasc', minimum=70, maximum=90, qtype='only', unit='degrees')"
   ]
  },
  {
   "cell_type": "code",
   "execution_count": 24,
   "metadata": {},
   "outputs": [
    {
     "data": {
      "text/plain": [
       "RangeQuery('rightasc',minimum=70.0,maximum=90.0,qtype='only',unit='degrees')"
      ]
     },
     "execution_count": 24,
     "metadata": {},
     "output_type": "execute_result"
    }
   ],
   "source": [
    "rq4"
   ]
  },
  {
   "cell_type": "code",
   "execution_count": 25,
   "metadata": {},
   "outputs": [
    {
     "name": "stdout",
     "output_type": "stream",
     "text": [
      "RangeQuery rightasc min=70.0 max=90.0 (qtype only) [degrees]\n"
     ]
    }
   ],
   "source": [
    "print(rq4)"
   ]
  },
  {
   "cell_type": "code",
   "execution_count": 26,
   "metadata": {
    "collapsed": true
   },
   "outputs": [],
   "source": [
    "q1=Query(mq1,mq2,OR(sq1,sq2),OR(rq3,rq4))"
   ]
  },
  {
   "cell_type": "code",
   "execution_count": 27,
   "metadata": {},
   "outputs": [
    {
     "data": {
      "text/plain": [
       "Query(MultQuery('target','Saturn Rings'),MultQuery('planet',['Earth', 'Jupiter', 'Saturn']),OR(StringQuery('volumeid','COISS_2001','contains'),StringQuery('volumeid','COISS_2002','matches')),OR(RangeQuery('rightasc',minimum=30.0,maximum=35.0,qtype='any'),RangeQuery('rightasc',minimum=70.0,maximum=90.0,qtype='only',unit='degrees')))"
      ]
     },
     "execution_count": 27,
     "metadata": {},
     "output_type": "execute_result"
    }
   ],
   "source": [
    "q1"
   ]
  },
  {
   "cell_type": "code",
   "execution_count": 28,
   "metadata": {
    "scrolled": true
   },
   "outputs": [
    {
     "name": "stdout",
     "output_type": "stream",
     "text": [
      "OPUS Query with search terms:\n",
      "  MultQuery target=Saturn Rings\n",
      "  MultQuery planet=Earth,Jupiter,Saturn\n",
      "  OR:\n",
      "    StringQuery volumeid=COISS_2001 (contains)\n",
      "    StringQuery volumeid=COISS_2002 (matches)\n",
      "  OR:\n",
      "    RangeQuery rightasc min=30.0 max=35.0 (qtype any)\n",
      "    RangeQuery rightasc min=70.0 max=90.0 (qtype only) [degrees]\n"
     ]
    }
   ],
   "source": [
    "print(q1)"
   ]
  },
  {
   "cell_type": "code",
   "execution_count": 34,
   "metadata": {
    "scrolled": true
   },
   "outputs": [
    {
     "data": {
      "text/plain": [
       "{'planet': 'Earth,Jupiter,Saturn',\n",
       " 'qtype-rightasc_1': 'any',\n",
       " 'qtype-rightasc_2': 'only',\n",
       " 'qtype-volumeid_1': 'contains',\n",
       " 'qtype-volumeid_2': 'matches',\n",
       " 'rightasc1_1': 30.0,\n",
       " 'rightasc1_2': 70.0,\n",
       " 'rightasc2_1': 35.0,\n",
       " 'rightasc2_2': 90.0,\n",
       " 'target': 'Saturn Rings',\n",
       " 'unit-rightasc_2': 'degrees',\n",
       " 'volumeid_1': 'COISS_2001',\n",
       " 'volumeid_2': 'COISS_2002'}"
      ]
     },
     "execution_count": 34,
     "metadata": {},
     "output_type": "execute_result"
    }
   ],
   "source": [
    "q1.get_api_params(R)"
   ]
  },
  {
   "cell_type": "code",
   "execution_count": 35,
   "metadata": {},
   "outputs": [
    {
     "data": {
      "text/plain": [
       "{'planet': 'Earth,Jupiter,Saturn',\n",
       " 'qtype-rightasc_1': 'any',\n",
       " 'qtype-rightasc_2': 'only',\n",
       " 'qtype-volumeid_1': 'contains',\n",
       " 'qtype-volumeid_2': 'matches',\n",
       " 'rightasc1_1': 30.0,\n",
       " 'rightasc1_2': 70.0,\n",
       " 'rightasc2_1': 35.0,\n",
       " 'rightasc2_2': 90.0,\n",
       " 'target': 'Saturn Rings',\n",
       " 'unit-rightasc_2': 'degrees',\n",
       " 'volumeid_1': 'COISS_2001',\n",
       " 'volumeid_2': 'COISS_2002'}"
      ]
     },
     "execution_count": 35,
     "metadata": {},
     "output_type": "execute_result"
    }
   ],
   "source": [
    "q1.get_api_params(O)"
   ]
  },
  {
   "cell_type": "code",
   "execution_count": null,
   "metadata": {
    "collapsed": true
   },
   "outputs": [],
   "source": []
  }
 ],
 "metadata": {
  "kernelspec": {
   "display_name": "Python 3",
   "language": "python",
   "name": "python3"
  },
  "language_info": {
   "codemirror_mode": {
    "name": "ipython",
    "version": 3
   },
   "file_extension": ".py",
   "mimetype": "text/x-python",
   "name": "python",
   "nbconvert_exporter": "python",
   "pygments_lexer": "ipython3",
   "version": "3.6.3"
  }
 },
 "nbformat": 4,
 "nbformat_minor": 2
}
